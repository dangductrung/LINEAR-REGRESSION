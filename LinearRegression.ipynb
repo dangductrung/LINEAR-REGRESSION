{
 "cells": [
  {
   "cell_type": "code",
   "execution_count": 9,
   "metadata": {
    "scrolled": true
   },
   "outputs": [
    {
     "data": {
      "image/png": "[encoded data removed]",
      "text/plain": [
       "<Figure size 432x288 with 1 Axes>"
      ]
     },
     "metadata": {
      "needs_background": "light"
     },
     "output_type": "display_data"
    },
    {
     "name": "stdout",
     "output_type": "stream",
     "text": [
      "R2: 0.8170436294518924\n",
      "RMSE: 2607.527569303216\n"
     ]
    }
   ],
   "source": [
    "import numpy as np\n",
    "import matplotlib.pyplot as plt  # To visualize\n",
    "import pandas as pd  # To read data\n",
    "from sklearn.linear_model import LinearRegression\n",
    "import sklearn\n",
    "\n",
    "def FormatCSV(data):\n",
    "    data.iloc[:, :] = data.iloc[:, :].replace(to_replace = False, value = 0)\n",
    "    data.iloc[:, :] = data.iloc[:, :].replace(to_replace = True, value = 1)\n",
    "    data.iloc[:, :] = data.iloc[:, :].replace(to_replace = 'automatic', value = 2)\n",
    "    data.iloc[:, :] = data.iloc[:, :].replace(to_replace = 'mechanical', value = 1)\n",
    "    \n",
    "def Transform(data, coef):\n",
    "    result = []\n",
    "    for x in data:\n",
    "        element = 0\n",
    "        for i in range(len(coef)):\n",
    "            if(i != -1):\n",
    "                element += x[i] * coef[i]\n",
    "            else:\n",
    "                element += x[i] * coef[i]\n",
    "        result += [[element]]\n",
    "    \n",
    "    return result\n",
    "\n",
    "data = pd.read_csv('X_train.csv')  # load data set\n",
    "result = pd.read_csv('Y_train.csv')\n",
    "#print(data.transmission.unique())\n",
    "\n",
    "data = data.sort_values(['id'])\n",
    "result = result.sort_values(['id'])\n",
    "\n",
    "data['price'] = result.price\n",
    "data = data.sort_values('price')\n",
    "result = result.sort_values('price')\n",
    "index = np.arange(0, 30000, 1)\n",
    "\n",
    "FormatCSV(data)\n",
    "#print( data.corr().abs()['price'].sort_values(ascending = False)[1:-1])\n",
    "X = data.loc[:, data.corr().abs()['price'].sort_values(ascending = False)[1:-1].index]\n",
    "\n",
    "X_2 = X.loc[:, ['transmission',  'odometer', 'feature_7', 'feature_3', 'feature_8', 'feature_6', 'feature_5', 'feature_2', 'feature_4', 'feature_9', 'feature_1', 'feature_0']].values\n",
    "X_1 = X.loc[:, ['year', 'engineCapacity', 'photos']].values\n",
    "X_1 = np.nan_to_num(X_1)\n",
    "X_2 = np.nan_to_num(X_2)\n",
    "\n",
    "#   'odometer', 'year','engineCapacity', 'photos', 'feature_0', 'feature_1', 'feature_2', 'feature_3', 'feature_4', 'feature_5', 'feature_6', 'feature_7', 'feature_8', 'feature_9'\n",
    "#X = data.drop(['id', 'manufacturer', 'model', 'transmission', 'color', 'engineFuel', 'engineType', 'bodyType', 'drivetrain'], axis = 1).values\n",
    "\n",
    "\n",
    "\n",
    "#Y = result.drop(['id'], axis = 1).values\n",
    "Y = result.price.values\n",
    "\n",
    "from sklearn.preprocessing import PolynomialFeatures\n",
    "pr = PolynomialFeatures(degree = 5, interaction_only = False)\n",
    "X_1 = pr.fit_transform(X_1)\n",
    "\n",
    "#coef = [4.77631076e+02, 1.18088513e+03, 7.49256638e+02, 2.03905728e+02, 1.20829463e+03, 1.02326110e+02 -3.28709490e-03, 6.63900844e+02, 5.11730154e+02, 2.26841810e+03, 2.94064985e+02, 7.47388250e+01, -1.07257328e+03, 7.90083064e+02]\n",
    "\n",
    "#Z = Transform(X, coef)\n",
    "Z = np.concatenate((X_1, X_2),axis=1)\n",
    "\n",
    "linear_regressor = LinearRegression(n_jobs = -1)  # create object for the class\n",
    "linear_regressor.fit(Z, Y)  # perform linear regression\n",
    "Y_pred = linear_regressor.predict(Z)  # make predictions\n",
    "\n",
    "\n",
    "plt.scatter(index, Y)\n",
    "plt.plot(index, Y_pred, color='red')\n",
    "plt.show()\n",
    "\n",
    "rmse = sklearn.metrics.mean_squared_error(Y, Y_pred)**0.5\n",
    "#print(linear_regressor.coef_)\n",
    "print(\"R2:\", linear_regressor.score(Z, Y))\n",
    "print(\"RMSE:\", rmse)"
   ]
  },
  {
   "cell_type": "code",
   "execution_count": null,
   "metadata": {},
   "outputs": [],
   "source": []
  }
 ],
 "metadata": {
  "kernelspec": {
   "display_name": "Python 3",
   "language": "python",
   "name": "python3"
  },
  "language_info": {
   "codemirror_mode": {
    "name": "ipython",
    "version": 3
   },
   "file_extension": ".py",
   "mimetype": "text/x-python",
   "name": "python",
   "nbconvert_exporter": "python",
   "pygments_lexer": "ipython3",
   "version": "3.7.6"
  }
 },
 "nbformat": 4,
 "nbformat_minor": 4
}
