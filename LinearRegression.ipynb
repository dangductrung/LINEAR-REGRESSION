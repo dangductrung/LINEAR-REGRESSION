{
 "cells": [
  {
   "cell_type": "code",
<<<<<<< Updated upstream
   "execution_count": 79,
=======
   "execution_count": 1,
>>>>>>> Stashed changes
   "metadata": {
    "scrolled": false
   },
   "outputs": [
    {
     "data": {
      "image/png": "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\n",
      "text/plain": [
       "<Figure size 432x288 with 1 Axes>"
      ]
     },
     "metadata": {
      "needs_background": "light"
     },
     "output_type": "display_data"
    },
    {
     "name": "stdout",
     "output_type": "stream",
     "text": [
<<<<<<< Updated upstream
      "R2: 0.9228242864198319\n",
      "RMSE: 1692.4098093279176\n"
=======
      "X_train set: X_train.csv\n",
      "Y_train set: Y_train.csv\n",
      "Transform input data set...\n",
      "Transform completed!\n",
      "Training...\n",
      "Train completed!\n"
     ]
    },
    {
     "data": {
      "image/png": "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\n",
      "text/plain": [
       "<Figure size 432x288 with 1 Axes>"
      ]
     },
     "metadata": {
      "needs_background": "light"
     },
     "output_type": "display_data"
    },
    {
     "name": "stdout",
     "output_type": "stream",
     "text": [
      "R2: 0.9235951492097711\n",
      "RMSE: 1685.0609208333199\n"
>>>>>>> Stashed changes
     ]
    }
   ],
   "source": [
    "import numpy as np\n",
    "import matplotlib.pyplot as plt \n",
    "import pandas as pd\n",
    "from sklearn.linear_model import LinearRegression\n",
    "import sklearn\n",
    "\n",
    "def FormatCSV(data):\n",
    "    data.iloc[:, :] = data.iloc[:, :].replace(to_replace = False, value = 0)\n",
    "    data.iloc[:, :] = data.iloc[:, :].replace(to_replace = True, value = 1)\n",
    "    \n",
    "def Convert(data, quality):\n",
    "    for x in quality:\n",
    "        value = 1\n",
    "        for y in data[x].unique():\n",
    "            data[x] = data[x].replace(to_replace = y, value = value)\n",
    "            value += 1\n",
    "            \n",
    "\n",
    "def Regression(Z, Y):\n",
    "    linear_regressor = LinearRegression(n_jobs = -1)  # create object for the class\n",
    "    linear_regressor.fit(Z, Y)  # perform linear regression\n",
    "    Y_pred = linear_regressor.predict(Z)  # make predictions\n",
    "\n",
    "\n",
    "    plt.scatter(index, Y)\n",
    "    plt.plot(index, Y_pred, color='red')\n",
    "    plt.show()\n",
    "\n",
    "    rmse = sklearn.metrics.mean_squared_error(Y, Y_pred)**0.5\n",
    "    print(\"R2:\", linear_regressor.score(Z, Y))\n",
    "    print(\"RMSE:\", rmse)\n",
    "\n",
    "\n",
    "quality = ['manufacturer', 'model', 'transmission', 'color', 'engineFuel', 'engineType', 'bodyType', 'drivetrain']\n",
    "\n",
<<<<<<< Updated upstream
=======
    "    data = data.drop(['id'], axis = 1)\n",
    "    #data = data.dropna()\n",
>>>>>>> Stashed changes
    "\n",
    "data = pd.read_csv('X_train.csv')  # load data set\n",
    "result = pd.read_csv('Y_train.csv')\n",
    "\n",
    "data = data.sort_values(['id'])\n",
    "result = result.sort_values(['id'])\n",
    "\n",
<<<<<<< Updated upstream
    "data['price'] = result.price\n",
    "data = data.sort_values('price')\n",
    "result = result.sort_values('price')\n",
    "\n",
    "data = data.drop(['id'], axis = 1)\n",
    "data = data.dropna()\n",
    "\n",
    "Y = data.price.values\n",
    "\n",
    "index = np.arange(0, len(data), 1)\n",
    "\n",
    "FormatCSV(data)\n",
    "Convert(data, quality)\n",
    "\n",
    "#print( data.corr().abs()['price'].sort_values(ascending = False)[1:-1])\n",
    "X = data.loc[:, data.corr().abs()['price'].sort_values(ascending = False)[1:].index]\n",
    "\n",
    "X_2 = X.loc[:, ['odometer', 'feature_7', 'feature_3', 'feature_8', 'feature_6', 'feature_5', 'feature_2', 'feature_4', 'feature_9', 'feature_1', 'feature_0']].values\n",
    "X_1 = X.loc[:, ['photos', 'engineFuel', 'bodyType', 'drivetrain', 'transmission', 'model', 'engineType', 'manufacturer', 'year', 'engineCapacity']].values\n",
    "X_1 = np.nan_to_num(X_1)\n",
    "X_2 = np.nan_to_num(X_2)\n",
    "\n",
    "#   'odometer', 'year','engineCapacity', 'photos', 'feature_0', 'feature_1', 'feature_2', 'feature_3', 'feature_4', 'feature_5', 'feature_6', 'feature_7', 'feature_8', 'feature_9'\n",
    "#X = data.drop(['id', 'manufacturer', 'model', 'transmission', 'color', 'engineFuel', 'engineType', 'bodyType', 'drivetrain'], axis = 1).values\n",
    "\n",
    "\n",
=======
    "    X = data.loc[:, data.corr().abs()['price'].sort_values(ascending = False)[1:].index]\n",
    "\n",
    "    #X_3 = X.loc[:, ['engineType', 'engineFuel', 'feature_7', 'feature_3', 'feature_8', 'feature_6', 'feature_5', 'feature_2', 'feature_4', 'feature_9', 'feature_1', 'feature_0']].values\n",
    "    #X_2 = X.loc[:, ['odometer', 'color']].values\n",
    "    #X_1 = X.loc[:, ['photos', 'bodyType', 'drivetrain', 'transmission', 'model', 'manufacturer', 'year', 'engineCapacity']].values\n",
    "    \n",
    "    X_2 = X.loc[:, ['odometer', 'feature_7', 'feature_3', 'feature_8', 'feature_6', 'feature_5', 'feature_2', 'feature_4', 'feature_9', 'feature_1', 'feature_0']].values\n",
    "    X_1 = X.loc[:, ['photos', 'engineFuel', 'bodyType', 'drivetrain', 'transmission', 'model', 'engineType', 'manufacturer', 'year', 'engineCapacity']].values\n",
    "    \n",
    "    X_1 = np.nan_to_num(X_1)\n",
    "    X_2 = np.nan_to_num(X_2)\n",
    "\n",
    "    from sklearn.preprocessing import PolynomialFeatures\n",
    "    pr_1 = PolynomialFeatures(degree = 6, interaction_only = False)\n",
    "    pr_2 = PolynomialFeatures(degree = 1, interaction_only = True)\n",
    "    X_1 = pr_1.fit_transform(X_1)\n",
    "    X_2 = pr_2.fit_transform(X_2)\n",
    "\n",
    "    \n",
    "    Z = np.concatenate((X_1, X_2),axis=1)\n",
    "    #Z = np.concatenate((Z, X_3),axis=1)\n",
    "    \n",
    "    print('Transform completed!')\n",
    "    \n",
    "    return Z, Y\n",
>>>>>>> Stashed changes
    "\n",
    "#Y = result.drop(['id'], axis = 1).values\n",
    "\n",
    "from sklearn.preprocessing import PolynomialFeatures\n",
    "pr = PolynomialFeatures(degree = 6, interaction_only = False)\n",
    "X_1 = pr.fit_transform(X_1)\n",
    "\n",
    "#coef = [4.77631076e+02, 1.18088513e+03, 7.49256638e+02, 2.03905728e+02, 1.20829463e+03, 1.02326110e+02 -3.28709490e-03, 6.63900844e+02, 5.11730154e+02, 2.26841810e+03, 2.94064985e+02, 7.47388250e+01, -1.07257328e+03, 7.90083064e+02]\n",
    "\n",
    "#Z = Transform(X, coef)\n",
    "Z = np.concatenate((X_1, X_2),axis=1)\n",
    "\n",
    "Regression(Z, Y)"
   ]
  }
 ],
 "metadata": {
  "kernelspec": {
   "display_name": "Python 3",
   "language": "python",
   "name": "python3"
  },
  "language_info": {
   "codemirror_mode": {
    "name": "ipython",
    "version": 3
   },
   "file_extension": ".py",
   "mimetype": "text/x-python",
   "name": "python",
   "nbconvert_exporter": "python",
   "pygments_lexer": "ipython3",
   "version": "3.7.6"
  }
 },
 "nbformat": 4,
 "nbformat_minor": 4
}
