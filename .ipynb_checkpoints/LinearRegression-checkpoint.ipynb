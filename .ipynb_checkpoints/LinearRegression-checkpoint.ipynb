{
 "cells": [
  {
   "cell_type": "code",
   "execution_count": null,
   "metadata": {},
   "outputs": [],
   "source": [
    "import numpy as np\n",
    "import matplotlib.pyplot as plt  # To visualize\n",
    "import pandas as pd  # To read data\n",
    "from sklearn.linear_model import LinearRegression\n",
    "import sklearn\n",
    "import pickle\n",
    "\n",
    "quality = ['manufacturer', 'model', 'transmission', 'color', 'engineFuel', 'engineType', 'bodyType', 'drivetrain']\n",
    "\n",
    "def FormatCSV(data):\n",
    "    data.iloc[:, :] = data.iloc[:, :].replace(to_replace = False, value = 0)\n",
    "    data.iloc[:, :] = data.iloc[:, :].replace(to_replace = True, value = 1)\n",
    "    \n",
    "def Convert(data, quality):\n",
    "    for x in quality:\n",
    "        value = 1\n",
    "        for y in data[x].unique():\n",
    "            data[x] = data[x].replace(to_replace = y, value = value)\n",
    "            value += 1\n",
    "            \n",
    "def SaveModel(model, path):\n",
    "    pickle.dump(model, open(path, 'wb'))\n",
    "    \n",
    "def LoadModel(path):\n",
    "    return pickle.load(open(path, 'rb'))\n",
    "            \n",
    "\n",
    "def Train(X, Y):\n",
    "    print('Training...')\n",
    "    linear_regressor = LinearRegression(n_jobs = -1)  # create object for the class\n",
    "    linear_regressor.fit(X, Y)  # perform linear regression\n",
    "    \n",
    "    print('Train completed!')\n",
    "    return linear_regressor\n",
    "\n",
    "def Predict(linear_regressor, X, Y):\n",
    "    index = np.arange(0, len(X), 1)\n",
    "    Y_pred = linear_regressor.predict(X)  # make predictions\n",
    "\n",
    "\n",
    "    plt.scatter(index, Y)\n",
    "    plt.plot(index, Y_pred, color='red')\n",
    "    plt.show()\n",
    "\n",
    "    rmse = sklearn.metrics.mean_squared_error(Y, Y_pred)**0.5\n",
    "    print(\"R2:\", linear_regressor.score(X, Y))\n",
    "    print(\"RMSE:\", rmse)\n",
    "    \n",
    "def Transform(dataset, resultset):\n",
    "    print('Transform input data set...')\n",
    "    data = pd.read_csv(dataset)\n",
    "    result = pd.read_csv(resultset)\n",
    "\n",
    "    data = data.sort_values(['id'])\n",
    "    result = result.sort_values(['id'])\n",
    "\n",
    "    data['price'] = result.price\n",
    "    data = data.sort_values('price')\n",
    "    result = result.sort_values('price')\n",
    "\n",
    "    data = data.drop(['id'], axis = 1)\n",
    "    #data = data.dropna()\n",
    "\n",
    "    Y = data.price.values\n",
    "\n",
    "    FormatCSV(data)\n",
    "    Convert(data, quality)\n",
    "\n",
    "    X = data.loc[:, data.corr().abs()['price'].sort_values(ascending = False)[1:].index]\n",
    "\n",
    "    #X_3 = X.loc[:, ['engineType', 'engineFuel', 'feature_7', 'feature_3', 'feature_8', 'feature_6', 'feature_5', 'feature_2', 'feature_4', 'feature_9', 'feature_1', 'feature_0']].values\n",
    "    #X_2 = X.loc[:, ['odometer', 'color']].values\n",
    "    #X_1 = X.loc[:, ['photos', 'bodyType', 'drivetrain', 'transmission', 'model', 'manufacturer', 'year', 'engineCapacity']].values\n",
    "    \n",
    "    \n",
    "    X_2 = X.loc[:, ['odometer', 'feature_7', 'feature_3', 'feature_8', 'feature_6', 'feature_5', 'feature_2', 'feature_4', 'feature_9', 'feature_1', 'feature_0']].values\n",
    "    X_1 = X.loc[:, ['photos', 'engineFuel', 'bodyType', 'drivetrain', 'transmission', 'model', 'engineType', 'manufacturer', 'year', 'engineCapacity']].values\n",
    "    \n",
    "    X_1 = np.nan_to_num(X_1)\n",
    "    X_2 = np.nan_to_num(X_2)\n",
    "\n",
    "    from sklearn.preprocessing import PolynomialFeatures\n",
    "    pr_1 = PolynomialFeatures(degree = 6, interaction_only = False)\n",
    "    pr_2 = PolynomialFeatures(degree = 1, interaction_only = True)\n",
    "    X_1 = pr_1.fit_transform(X_1)\n",
    "    X_2 = pr_2.fit_transform(X_2)\n",
    "\n",
    "    Z = np.concatenate((X_1, X_2),axis=1)\n",
    "    #Z = np.concatenate((Z, X_3),axis=1)\n",
    "    \n",
    "    print('Transform completed!')\n",
    "    \n",
    "    return Z, Y\n",
    "\n",
    "def GetData():\n",
    "    dataset = input('X_train set: ')\n",
    "    resultset = input('Y_train set: ')\n",
    "    \n",
    "    return dataset, resultset\n",
    "\n",
    "dataset,resultset = GetData()\n",
    "\n",
    "X, Y = Transform(dataset, resultset)\n",
    "\n",
    "linear_regressor = Train(X, Y)\n",
    "path=input('Choose path to save model: ')\n",
    "\n",
    "if(path!=''):\n",
    "    SaveModel(linear_regressor,path)\n",
    "    print('Saved to '+path)\n",
    "\n",
    "\n",
    "\n",
    "Predict(linear_regressor, X, Y)"
   ]
  },
  {
   "cell_type": "code",
   "execution_count": 11,
   "metadata": {},
   "outputs": [
    {
     "name": "stdout",
     "output_type": "stream",
     "text": [
      "X_train set: X_train.csv\n",
      "Y_train set: Y_train.csv\n",
      "Transform input data set...\n",
      "Transform completed!\n",
      "Choose path to load model: a.model\n"
     ]
    },
    {
     "data": {
      "image/png": "[encoded data removed]",
      "text/plain": [
       "<Figure size 432x288 with 1 Axes>"
      ]
     },
     "metadata": {
      "needs_background": "light"
     },
     "output_type": "display_data"
    },
    {
     "name": "stdout",
     "output_type": "stream",
     "text": [
      "R2: 0.9235952484994447\n",
      "RMSE: 1685.059825947318\n"
     ]
    }
   ],
   "source": [
    "dataset,resultset = GetData()\n",
    "X, Y = Transform(dataset, resultset)\n",
    "\n",
    "path=input('Choose path to load model: ')\n",
    "if(path!=''):\n",
    "    linear_regressor = LoadModel(path)\n",
    "    Predict(linear_regressor, X, Y)"
   ]
  }
 ],
 "metadata": {
  "kernelspec": {
   "display_name": "Python 3",
   "language": "python",
   "name": "python3"
  },
  "language_info": {
   "codemirror_mode": {
    "name": "ipython",
    "version": 3
   },
   "file_extension": ".py",
   "mimetype": "text/x-python",
   "name": "python",
   "nbconvert_exporter": "python",
   "pygments_lexer": "ipython3",
   "version": "3.6.9"
  }
 },
 "nbformat": 4,
 "nbformat_minor": 4
}
