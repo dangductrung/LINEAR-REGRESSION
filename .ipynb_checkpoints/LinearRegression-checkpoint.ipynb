{
 "cells": [
  {
   "cell_type": "code",
   "execution_count": 79,
   "metadata": {
    "scrolled": false
   },
   "outputs": [
    {
     "data": {
      "image/png": "[encoded data removed]",
      "text/plain": [
       "<Figure size 432x288 with 1 Axes>"
      ]
     },
     "metadata": {
      "needs_background": "light"
     },
     "output_type": "display_data"
    },
    {
     "name": "stdout",
     "output_type": "stream",
     "text": [
      "R2: 0.9228242864198319\n",
      "RMSE: 1692.4098093279176\n"
     ]
    }
   ],
   "source": [
    "import numpy as np\n",
    "import matplotlib.pyplot as plt  # To visualize\n",
    "import pandas as pd  # To read data\n",
    "from sklearn.linear_model import LinearRegression\n",
    "import sklearn\n",
    "\n",
    "def FormatCSV(data):\n",
    "    data.iloc[:, :] = data.iloc[:, :].replace(to_replace = False, value = 0)\n",
    "    data.iloc[:, :] = data.iloc[:, :].replace(to_replace = True, value = 1)\n",
    "    \n",
    "def Convert(data, quality):\n",
    "    for x in quality:\n",
    "        value = 1\n",
    "        for y in data[x].unique():\n",
    "            data[x] = data[x].replace(to_replace = y, value = value)\n",
    "            value += 1\n",
    "            \n",
    "\n",
    "def Regression(Z, Y):\n",
    "    linear_regressor = LinearRegression(n_jobs = -1)  # create object for the class\n",
    "    linear_regressor.fit(Z, Y)  # perform linear regression\n",
    "    Y_pred = linear_regressor.predict(Z)  # make predictions\n",
    "\n",
    "\n",
    "    plt.scatter(index, Y)\n",
    "    plt.plot(index, Y_pred, color='red')\n",
    "    plt.show()\n",
    "\n",
    "    rmse = sklearn.metrics.mean_squared_error(Y, Y_pred)**0.5\n",
    "    print(\"R2:\", linear_regressor.score(Z, Y))\n",
    "    print(\"RMSE:\", rmse)\n",
    "\n",
    "\n",
    "quality = ['manufacturer', 'model', 'transmission', 'color', 'engineFuel', 'engineType', 'bodyType', 'drivetrain']\n",
    "\n",
    "\n",
    "data = pd.read_csv('X_train.csv')  # load data set\n",
    "result = pd.read_csv('Y_train.csv')\n",
    "\n",
    "data = data.sort_values(['id'])\n",
    "result = result.sort_values(['id'])\n",
    "\n",
    "data['price'] = result.price\n",
    "data = data.sort_values('price')\n",
    "result = result.sort_values('price')\n",
    "\n",
    "data = data.drop(['id'], axis = 1)\n",
    "data = data.dropna()\n",
    "\n",
    "Y = data.price.values\n",
    "\n",
    "index = np.arange(0, len(data), 1)\n",
    "\n",
    "FormatCSV(data)\n",
    "Convert(data, quality)\n",
    "\n",
    "#print( data.corr().abs()['price'].sort_values(ascending = False)[1:-1])\n",
    "X = data.loc[:, data.corr().abs()['price'].sort_values(ascending = False)[1:].index]\n",
    "\n",
    "X_2 = X.loc[:, ['odometer', 'feature_7', 'feature_3', 'feature_8', 'feature_6', 'feature_5', 'feature_2', 'feature_4', 'feature_9', 'feature_1', 'feature_0']].values\n",
    "X_1 = X.loc[:, ['photos', 'engineFuel', 'bodyType', 'drivetrain', 'transmission', 'model', 'engineType', 'manufacturer', 'year', 'engineCapacity']].values\n",
    "X_1 = np.nan_to_num(X_1)\n",
    "X_2 = np.nan_to_num(X_2)\n",
    "\n",
    "#   'odometer', 'year','engineCapacity', 'photos', 'feature_0', 'feature_1', 'feature_2', 'feature_3', 'feature_4', 'feature_5', 'feature_6', 'feature_7', 'feature_8', 'feature_9'\n",
    "#X = data.drop(['id', 'manufacturer', 'model', 'transmission', 'color', 'engineFuel', 'engineType', 'bodyType', 'drivetrain'], axis = 1).values\n",
    "\n",
    "\n",
    "\n",
    "#Y = result.drop(['id'], axis = 1).values\n",
    "\n",
    "from sklearn.preprocessing import PolynomialFeatures\n",
    "pr = PolynomialFeatures(degree = 6, interaction_only = False)\n",
    "X_1 = pr.fit_transform(X_1)\n",
    "\n",
    "#coef = [4.77631076e+02, 1.18088513e+03, 7.49256638e+02, 2.03905728e+02, 1.20829463e+03, 1.02326110e+02 -3.28709490e-03, 6.63900844e+02, 5.11730154e+02, 2.26841810e+03, 2.94064985e+02, 7.47388250e+01, -1.07257328e+03, 7.90083064e+02]\n",
    "\n",
    "#Z = Transform(X, coef)\n",
    "Z = np.concatenate((X_1, X_2),axis=1)\n",
    "\n",
    "Regression(Z, Y)"
   ]
  }
 ],
 "metadata": {
  "kernelspec": {
   "display_name": "Python 3",
   "language": "python",
   "name": "python3"
  },
  "language_info": {
   "codemirror_mode": {
    "name": "ipython",
    "version": 3
   },
   "file_extension": ".py",
   "mimetype": "text/x-python",
   "name": "python",
   "nbconvert_exporter": "python",
   "pygments_lexer": "ipython3",
   "version": "3.7.6"
  }
 },
 "nbformat": 4,
 "nbformat_minor": 4
}
